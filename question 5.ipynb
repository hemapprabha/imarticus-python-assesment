{
 "cells": [
  {
   "cell_type": "code",
   "execution_count": null,
   "id": "a777aeda",
   "metadata": {},
   "outputs": [],
   "source": [
    "weightonearth={'john':45,'Shelly':65,'Marry':35}\n",
    "gmoon=1.622\n",
    "gearth=9.81\n",
    "weightonmoon={'john':7.44,'Shelly':10.75,'Marry':5.79}\n"
   ]
  }
 ],
 "metadata": {
  "kernelspec": {
   "display_name": "Python 3 (ipykernel)",
   "language": "python",
   "name": "python3"
  },
  "language_info": {
   "codemirror_mode": {
    "name": "ipython",
    "version": 3
   },
   "file_extension": ".py",
   "mimetype": "text/x-python",
   "name": "python",
   "nbconvert_exporter": "python",
   "pygments_lexer": "ipython3",
   "version": "3.9.7"
  }
 },
 "nbformat": 4,
 "nbformat_minor": 5
}
